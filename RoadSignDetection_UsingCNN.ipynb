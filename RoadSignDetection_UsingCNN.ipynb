{
  "nbformat": 4,
  "nbformat_minor": 0,
  "metadata": {
    "colab": {
      "provenance": []
    },
    "kernelspec": {
      "name": "python3",
      "display_name": "Python 3"
    },
    "language_info": {
      "name": "python"
    }
  },
  "cells": [
    {
      "cell_type": "code",
      "execution_count": null,
      "metadata": {
        "colab": {
          "base_uri": "https://localhost:8080/"
        },
        "id": "e7wpGR-zn60N",
        "outputId": "2590b53c-33d0-45a1-c320-1825065c8fb2"
      },
      "outputs": [
        {
          "output_type": "stream",
          "name": "stdout",
          "text": [
            "Epoch 1/5\n",
            "75/75 [==============================] - 5s 60ms/step - loss: 3.6398 - accuracy: 0.0994 - val_loss: 3.0356 - val_accuracy: 0.2963\n",
            "Epoch 2/5\n",
            "75/75 [==============================] - 3s 36ms/step - loss: 2.6932 - accuracy: 0.3045 - val_loss: 2.0204 - val_accuracy: 0.4983\n",
            "Epoch 3/5\n",
            "75/75 [==============================] - 3s 36ms/step - loss: 1.6847 - accuracy: 0.5564 - val_loss: 1.2379 - val_accuracy: 0.6667\n",
            "Epoch 4/5\n",
            "75/75 [==============================] - 3s 37ms/step - loss: 1.0177 - accuracy: 0.7195 - val_loss: 0.8552 - val_accuracy: 0.7492\n",
            "Epoch 5/5\n",
            "75/75 [==============================] - 4s 57ms/step - loss: 0.7061 - accuracy: 0.8117 - val_loss: 0.6204 - val_accuracy: 0.8266\n",
            "19/19 - 0s - loss: 0.6204 - accuracy: 0.8266 - 195ms/epoch - 10ms/step\n",
            "Test accuracy: 0.8265992999076843\n"
          ]
        },
        {
          "output_type": "stream",
          "name": "stderr",
          "text": [
            "/usr/local/lib/python3.10/dist-packages/keras/src/engine/training.py:3103: UserWarning: You are saving your model as an HDF5 file via `model.save()`. This file format is considered legacy. We recommend using instead the native Keras format, e.g. `model.save('my_model.keras')`.\n",
            "  saving_api.save_model(\n"
          ]
        }
      ],
      "source": [
        "import os\n",
        "import cv2\n",
        "import pandas as pd\n",
        "import numpy as np\n",
        "from sklearn.model_selection import train_test_split\n",
        "from sklearn.utils import shuffle\n",
        "import tensorflow as tf\n",
        "from tensorflow.keras import layers, models\n",
        "\n",
        "\n",
        "csv_path = '/content/drive/MyDrive/traffic_Data/labels.csv'\n",
        "df = pd.read_csv(csv_path)\n",
        "\n",
        "def load_images_and_labels(dataset_path):\n",
        "    images = []\n",
        "    labels = []\n",
        "\n",
        "    for class_id, sign_name in zip(df['ClassId'], df['Name']):\n",
        "        class_folder = os.path.join(dataset_path, str(class_id))\n",
        "        images_paths = [os.path.join(class_folder, image_file) for image_file in os.listdir(class_folder)]\n",
        "        images_paths = images_paths[:min(len(images_paths), 100)]\n",
        "        for image_path in images_paths:\n",
        "            img = cv2.imread(image_path)\n",
        "            img = cv2.cvtColor(img, cv2.COLOR_BGR2RGB)\n",
        "            img = cv2.resize(img, (32, 32))\n",
        "            images.append(img)\n",
        "            labels.append(class_id)\n",
        "\n",
        "    return np.array(images), np.array(labels)\n",
        "\n",
        "dataset_path = '/content/drive/MyDrive/traffic_Data/DATA'\n",
        "images, labels = load_images_and_labels(dataset_path)\n",
        "images, labels = shuffle(images, labels)\n",
        "\n",
        "\n",
        "X_train, X_test, y_train, y_test = train_test_split(images, labels, test_size=0.2, random_state=42)\n",
        "\n",
        "\n",
        "X_train, X_test = X_train / 255.0, X_test / 255.0\n",
        "\n",
        "\n",
        "model = models.Sequential([\n",
        "    layers.Conv2D(32, (3, 3), activation='relu', input_shape=(32, 32, 3)),\n",
        "    layers.MaxPooling2D((2, 2)),\n",
        "    layers.Conv2D(64, (3, 3), activation='relu'),\n",
        "    layers.MaxPooling2D((2, 2)),\n",
        "    layers.Conv2D(64, (3, 3), activation='relu'),\n",
        "    layers.Flatten(),\n",
        "    layers.Dense(64, activation='relu'),\n",
        "    layers.Dense(58, activation='softmax')  # 43 classes for traffic signs\n",
        "])\n",
        "\n",
        "\n",
        "model.compile(optimizer='adam',\n",
        "              loss='sparse_categorical_crossentropy',\n",
        "              metrics=['accuracy'])\n",
        "\n",
        "\n",
        "model.fit(X_train, y_train, epochs=5, validation_data=(X_test, y_test))\n",
        "\n",
        "test_loss, test_acc = model.evaluate(X_test, y_test, verbose=2)\n",
        "print(f\"Test accuracy: {test_acc}\")\n",
        "\n",
        "\n",
        "model.save('road_sign_classifier_cnn.h5')\n",
        "\n",
        "\n",
        "\n"
      ]
    },
    {
      "cell_type": "code",
      "source": [
        "pip install googletrans==4.0.0-rc1\n"
      ],
      "metadata": {
        "id": "mZjYwJV5yQeU"
      },
      "execution_count": null,
      "outputs": []
    },
    {
      "cell_type": "code",
      "source": [
        "from googletrans import Translator\n",
        "import cv2\n",
        "import numpy as np\n",
        "import pandas as pd\n",
        "import tensorflow as tf\n",
        "from tensorflow.keras.models import load_model\n",
        "\n",
        "\n",
        "model_path = 'road_sign_classifier_cnn.h5'\n",
        "model = load_model(model_path)\n",
        "\n",
        "class_descriptions_path = '/content/drive/MyDrive/traffic_Data/labels.csv'\n",
        "class_descriptions_df = pd.read_csv(class_descriptions_path)\n",
        "\n",
        "def translate_description(description, dest_lang):\n",
        "    translator = Translator()\n",
        "    translated = translator.translate(description, dest=dest_lang)\n",
        "    return translated.text\n",
        "\n",
        "def predict_road_sign(image_path, model, class_descriptions_df):\n",
        "    img = cv2.imread(image_path)\n",
        "    img = cv2.cvtColor(img, cv2.COLOR_BGR2RGB)\n",
        "    img = cv2.resize(img, (32, 32))\n",
        "    img = img.reshape(1, 32, 32, 3)\n",
        "    img = img / 255.0\n",
        "    prediction = model.predict(img)\n",
        "    sign_class = np.argmax(prediction)\n",
        "    sign_description = class_descriptions_df[class_descriptions_df['ClassId'] == sign_class]['Name'].values[0]\n",
        "    return sign_class, sign_description\n",
        "\n",
        "\n",
        "image_path = '/content/speed_limti_70.png'\n",
        "predicted_class, predicted_description = predict_road_sign(image_path, model, class_descriptions_df)\n",
        "print(f\"Predicted road sign class: {predicted_class}\")\n",
        "\n",
        "translated_description_english = translate_description(predicted_description, 'en')\n",
        "print(f\"Translated description (English): {translated_description_english}\")\n",
        "\n",
        "\n",
        "translated_description_kannada = translate_description(predicted_description, 'kn')\n",
        "print(f\"Translated description (Kannada): {translated_description_kannada}\")\n",
        "\n",
        "translated_description_marathi = translate_description(predicted_description, 'mr')\n",
        "print(f\"Translated description (Marathi): {translated_description_marathi}\")\n",
        "\n",
        "translated_description_japanese = translate_description(predicted_description, 'ja')\n",
        "print(f\"Translated description (Japanese): {translated_description_japanese}\")\n",
        "\n",
        "translated_description_hindi = translate_description(predicted_description, 'hi')\n",
        "print(f\"Translated description (Hindi): {translated_description_hindi}\")"
      ],
      "metadata": {
        "colab": {
          "base_uri": "https://localhost:8080/"
        },
        "id": "y2dwAqFbqUUN",
        "outputId": "8b226e54-0ff0-49ec-d9fa-ee91207c9dd1"
      },
      "execution_count": null,
      "outputs": [
        {
          "output_type": "stream",
          "name": "stdout",
          "text": [
            "1/1 [==============================] - 0s 87ms/step\n",
            "Predicted road sign class: 6\n",
            "Translated description (English): Speed limit (70km/h)\n",
            "Translated description (Kannada): ವೇಗದ ಮಿತಿ (ಗಂಟೆಗೆ 70 ಕಿ.ಮೀ.\n",
            "Translated description (Marathi): वेग मर्यादा (70 किमी/ताशी)\n",
            "Translated description (Japanese): 速度制限（70km/h）\n",
            "Translated description (Hindi): गति सीमा (70 किमी/घंटा)\n"
          ]
        }
      ]
    }
  ]
}